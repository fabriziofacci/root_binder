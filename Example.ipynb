 // Example ROOT code for histogram
#include <TCanvas.h>
#include <TH1F.h>

void draw_hist() {
    TCanvas *c = new TCanvas("c", "Canvas", 800, 600);
    TH1F *h = new TH1F("h", "Test Histogram", 100, -4, 4);
    h->FillRandom("gaus", 10000);
    h->Draw();
    c->Draw();
}

draw_hist();
